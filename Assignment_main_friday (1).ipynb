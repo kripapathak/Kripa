{
 "cells": [
  {
   "cell_type": "markdown",
   "metadata": {},
   "source": [
    "# Python Programming Questions and Answers\n",
    "\n",
    "## Session 1: Syntax Basics, Variables, and Data Types\n",
    "\n",
    "### 1. What is the correct way to declare a variable in Python?"
   ]
  },
  {
   "cell_type": "markdown",
   "metadata": {},
   "source": [
    "# The correct way to declare a variable in python is \"variable_name =value\""
   ]
  },
  {
   "cell_type": "code",
   "execution_count": 1,
   "metadata": {},
   "outputs": [],
   "source": [
    "my_integer = 10\n",
    "my_float = 2.6\n",
    "my_string = (\"hello texas!\")\n",
    "my_list = [1, 2, 3, 4, 5, 6]\n",
    "my_dict = {\"key\": \"value\"}"
   ]
  },
  {
   "cell_type": "markdown",
   "metadata": {},
   "source": [
    "\n",
    "### 2. Explain the difference between = and == in Python."
   ]
  },
  {
   "cell_type": "code",
   "execution_count": null,
   "metadata": {},
   "outputs": [],
   "source": [
    "#Examples\n",
    "a= 5 # here a value is assigned to a variable.\n",
    "b= 6\n",
    "\n",
    "a==b # here, the values of a and b are being compared. It basically is like asking if a is equal to b.\n",
    "a==0 # here it is comparing if the value of a is equal to 0."
   ]
  },
  {
   "cell_type": "markdown",
   "metadata": {},
   "source": [
    "### 3. How do you convert between different data types?"
   ]
  },
  {
   "cell_type": "code",
   "execution_count": 1,
   "metadata": {},
   "outputs": [
    {
     "data": {
      "text/plain": [
       "False"
      ]
     },
     "execution_count": 1,
     "metadata": {},
     "output_type": "execute_result"
    }
   ],
   "source": [
    "#Examples\n",
    "a= 5 # here a value is assigned to a variable.\n",
    "b= 6\n",
    "\n",
    "a==b # here, the values of a and b are being compared. It basically is like asking if a is equal to b.\n",
    "a==0 # here it is comparing if the value of a is equal to 0."
   ]
  },
  {
   "cell_type": "markdown",
   "metadata": {},
   "source": [
    "### 4. Write a program to swap two variables without using a third variable."
   ]
  },
  {
   "cell_type": "code",
   "execution_count": 3,
   "metadata": {},
   "outputs": [
    {
     "name": "stdout",
     "output_type": "stream",
     "text": [
      "a=suraj and b=kripa\n"
     ]
    }
   ],
   "source": [
    "# Using this program, the variables are swapped without using a third variable.\n",
    "\n",
    "a=input(\"Enter a string or a number\")\n",
    "b=input(\"Enter another string or a number\")\n",
    "print(f'a={b} and b={a}')"
   ]
  },
  {
   "cell_type": "markdown",
   "metadata": {},
   "source": [
    "### 5. What is type() function used for?"
   ]
  },
  {
   "cell_type": "code",
   "execution_count": 4,
   "metadata": {},
   "outputs": [
    {
     "name": "stdout",
     "output_type": "stream",
     "text": [
      "<class 'str'>\n",
      "<class 'int'>\n",
      "<class 'float'>\n",
      "<class 'list'>\n",
      "<class 'dict'>\n"
     ]
    }
   ],
   "source": [
    "# Example\n",
    "\n",
    "print(type(a))\n",
    "\n",
    "b= 10 \n",
    "print(type(b))\n",
    "\n",
    "c= 7.0\n",
    "print(type(c))\n",
    "\n",
    "l1=[1,2,3,4]\n",
    "print(type(l1))\n",
    "\n",
    "dict1={\"name\":\"Kanchan\", \"age\":20}\n",
    "print(type(dict1))"
   ]
  },
  {
   "cell_type": "markdown",
   "metadata": {},
   "source": [
    "### Demonstrate membership and identity operators"
   ]
  },
  {
   "cell_type": "code",
   "execution_count": 1,
   "metadata": {},
   "outputs": [
    {
     "name": "stdout",
     "output_type": "stream",
     "text": [
      "True\n",
      "True\n",
      "True\n",
      "False\n"
     ]
    }
   ],
   "source": [
    "# Demonstration of membership operator\n",
    "students=[\"Kripa\", \"rubina\", \"praya\", \"preety\"]\n",
    "print(\"praya\" in students) # Since, praya is present in the list \"students\", the output has to be True.\n",
    "print(\"binisha\" not in students) # Since, binisha is not present in the list \"students\", the output has to be True.\n",
    "\n",
    "# Demonstration of identity operator\n",
    "a=5\n",
    "b=5\n",
    "print(a is b) # Since, \"a\" and \"b\" both are pointing to the same object in a same memory location, the output has to be True.\n",
    "print(a is not b) # Since, \"a\" and \"b\" both are pointing to the same object in a same memory location, the output has to be False"
   ]
  },
  {
   "cell_type": "markdown",
   "metadata": {},
   "source": [
    "### Important: Show different assignment operators\n",
    "Look through these answers and try once:\n"
   ]
  },
  {
   "cell_type": "code",
   "execution_count": null,
   "metadata": {},
   "outputs": [],
   "source": [
    "x = 10\n",
    "x += 5   # Equivalent to x = x + 5\n",
    "x -= 3   # Equivalent to x = x - 3\n",
    "x *= 2   # Equivalent to x = x * 2\n",
    "x /= 2   # Equivalent to x = x / 2\n",
    "x %= 3   # Equivalent to x = x % 3\n",
    "x **= 2  # Equivalent to x = x ** 2"
   ]
  },
  {
   "cell_type": "markdown",
   "metadata": {},
   "source": [
    "\n",
    "## Session 2: Input/Output, Control Flow, and Functions\n",
    "\n",
    "### 6. How do you take user input in Python?"
   ]
  },
  {
   "cell_type": "code",
   "execution_count": 5,
   "metadata": {},
   "outputs": [
    {
     "name": "stdout",
     "output_type": "stream",
     "text": [
      "22\n",
      "kripa\n"
     ]
    }
   ],
   "source": [
    "num=input(\"Enter a number\") # Since the data type of the input is not defined, it accepts any data type, not just the numbers.\n",
    "print (num) # In the output, we can see that it also accepted a string.\n",
    "\n",
    "name=str(input(\"Enter your name\")) # Now it will only accept string data type, since the data type has been defined.\n",
    "print(name) # It did not accept any other data type."
   ]
  },
  {
   "cell_type": "markdown",
   "metadata": {},
   "source": [
    "### 7. Write a program to check if a number is even or odd."
   ]
  },
  {
   "cell_type": "code",
   "execution_count": 6,
   "metadata": {},
   "outputs": [
    {
     "name": "stdout",
     "output_type": "stream",
     "text": [
      "It is an odd number.\n"
     ]
    }
   ],
   "source": [
    "num=int(input(\"Enter a number\"))\n",
    "if num%2==0:\n",
    "    print(\"It is an even number.\")\n",
    "else:\n",
    "    print(\"It is an odd number.\")\n"
   ]
  },
  {
   "cell_type": "markdown",
   "metadata": {},
   "source": [
    "### 8. Create a function that calculates the factorial of a number using a loop."
   ]
  },
  {
   "cell_type": "code",
   "execution_count": 7,
   "metadata": {},
   "outputs": [
    {
     "name": "stdout",
     "output_type": "stream",
     "text": [
      "720\n"
     ]
    }
   ],
   "source": [
    "def factorials(n):\n",
    "    factorial=1\n",
    "    while n!=0:\n",
    "        factorial= factorial * n\n",
    "        n = n-1\n",
    "    print(factorial)\n",
    "\n",
    "factorials(6) #calling function"
   ]
  },
  {
   "cell_type": "markdown",
   "metadata": {},
   "source": [
    "### 9. Write a program to print the Fibonacci sequence up to n terms."
   ]
  },
  {
   "cell_type": "code",
   "execution_count": 8,
   "metadata": {},
   "outputs": [
    {
     "name": "stdout",
     "output_type": "stream",
     "text": [
      "0 1 "
     ]
    }
   ],
   "source": [
    "n=int(input(\"Enter a number\"))\n",
    "a,b=0,1\n",
    "for i in range(n):\n",
    "    print(a, end=\" \")\n",
    "    a, b=b, a+b"
   ]
  },
  {
   "cell_type": "markdown",
   "metadata": {},
   "source": [
    "### 10. Demonstrate the use of break and continue in a loop."
   ]
  },
  {
   "cell_type": "code",
   "execution_count": 9,
   "metadata": {},
   "outputs": [
    {
     "name": "stdout",
     "output_type": "stream",
     "text": [
      "1\n",
      "2\n",
      "3\n",
      "4\n",
      "\n",
      "\n",
      "1\n",
      "2\n",
      "3\n",
      "4\n",
      "6\n",
      "7\n",
      "8\n",
      "9\n",
      "10\n"
     ]
    }
   ],
   "source": [
    "# Break Statement\n",
    "for i in range(1,11):\n",
    "     if i==5:\n",
    "        break # Break Statement exits the loop one the condition is met as we can see in the output.\n",
    "     print(i)\n",
    "print(\"\\n\")\n",
    "\n",
    "# Continue Statement\n",
    "for i in range(1,11):\n",
    "    if i==5:\n",
    "        continue # Continue Statement skips that one particular iteration when condition is met. As we can see in the output, 5 is skipped.\n",
    "    print(i)"
   ]
  },
  {
   "cell_type": "markdown",
   "metadata": {},
   "source": [
    "## Session 3: Collections and Iteration\n",
    "\n",
    "### 11. How do you create and manipulate a list in Python?"
   ]
  },
  {
   "cell_type": "code",
   "execution_count": 11,
   "metadata": {},
   "outputs": [
    {
     "name": "stdout",
     "output_type": "stream",
     "text": [
      "['a', 'b', 1, 2, 3]\n",
      "('a', 'b', 1, 2, 3)\n",
      "[0, 1, 2, 3, 4]\n",
      "grapes\n",
      "['strawberry', 'banana']\n",
      "['grapes', 'banana', 'strawberry']\n",
      "['strawberry', 'banana', 'grapes', 'dragon fruit']\n",
      "['strawberry', 'grapes', 'dragon fruit']\n",
      "['grapes', 'dragon fruit']\n",
      "[]\n"
     ]
    }
   ],
   "source": [
    "# Creating lists\n",
    "l1=[\"a\",\"b\", 1, 2] # l1 consists of elements of multiple data types.\n",
    "l2=[1,2,3,4]\n",
    "fruits=[\"strawberry\", \"banana\", \"grapes\"] \n",
    "\n",
    "# Manipulating lists\n",
    "l1.append(3) # Adds an element 3 at the last.\n",
    "print(l1) # As we can see in the output, element 3 has been added at the last of the list.\n",
    "\n",
    "print(tuple(l1)) # It turns the l1 list into a tuple, we can confirm that by the round brackets() used in the output.\n",
    "\n",
    "l2.insert(0,0) # It adds element to the specific position, element 0 is added at the iindex 0.\n",
    "print(l2)\n",
    "\n",
    "print(fruits[-1]) # picking/accessing specific element using the index.\n",
    "print(fruits[0:2]) # slicing the list \"fruits\"\n",
    "print(fruits[::-1]) # reversing the list \"fruits\"\n",
    "\n",
    "fruits.append(\"dragon fruit\")\n",
    "print(fruits)\n",
    "\n",
    "# Removing a specific element\n",
    "fruits.pop(1) # If index is not specified, it removes the last element by default.\n",
    "print(fruits)\n",
    "#OR,\n",
    "del fruits[0] # we can use del to delete a specific element.\n",
    "print(fruits)\n",
    "\n",
    "fruits.clear() # Clears everything, making the list empty.\n",
    "print(fruits)\n",
    "\n",
    "\n",
    "# ETC"
   ]
  },
  {
   "cell_type": "markdown",
   "metadata": {},
   "source": [
    "### 12. Write a program to find the maximum and minimum in a list."
   ]
  },
  {
   "cell_type": "code",
   "execution_count": 12,
   "metadata": {},
   "outputs": [
    {
     "name": "stdout",
     "output_type": "stream",
     "text": [
      "maximum:10\n",
      "minimum:2\n"
     ]
    }
   ],
   "source": [
    "list1=[2,4,6,8,10]\n",
    "maximum=max(list1)\n",
    "minimum=min(list1)\n",
    "print(f'maximum:{maximum}')\n",
    "print(f'minimum:{minimum}')"
   ]
  },
  {
   "cell_type": "code",
   "execution_count": null,
   "metadata": {},
   "outputs": [],
   "source": []
  },
  {
   "cell_type": "markdown",
   "metadata": {},
   "source": [
    "### 13. How do you use dictionary methods? (from creation,methods,accessing,modifying)"
   ]
  },
  {
   "cell_type": "code",
   "execution_count": 14,
   "metadata": {},
   "outputs": [
    {
     "name": "stdout",
     "output_type": "stream",
     "text": [
      "dict_keys(['first_name', 'last_name', 'address'])\n",
      "dict_values(['Kripa', 'Pathak', 'Dhumbarahi'])\n",
      "dict_items([('first_name', 'Kripa'), ('last_name', 'Pathak'), ('address', 'Dhumbarahi')])\n",
      "Kripa\n",
      "{'first_name': 'suraj', 'last_name': 'Pathak', 'address': 'Dhumbarahi', 'age': 28}\n",
      "{'first_name': 'suraj', 'last_name': 'Pathak', 'address': 'Dhumbarahi', 'age': 28, 'city': 'Kathmandu', 'country': 'Nepal'}\n",
      "{'first_name': 'suraj', 'last_name': 'Pathak', 'age': 28, 'city': 'Kathmandu', 'country': 'Nepal'}\n",
      "{'first_name': 'suraj', 'last_name': 'Pathak', 'age': 28, 'city': 'Kathmandu'}\n"
     ]
    }
   ],
   "source": [
    "# Creation of dict\n",
    "dict1={\"first_name\": \"Kripa\", \"last_name\":\"Pathak\", \"address\":\"Dhumbarahi\"}\n",
    "\n",
    "# Methods\n",
    "print(dict1.keys()) # returns all the keys in the dictionary.\n",
    "print(dict1.values()) # returns all the values in the dict.\n",
    "print(dict1.items()) # returns all the keys and values as a pair.\n",
    "\n",
    "#Accessing\n",
    "print(dict1[\"first_name\"]) # returns only the first name.\n",
    "\n",
    "# Modifying\n",
    "dict1[\"first_name\"]=\"suraj\" # replaces the value of key with new value.\n",
    "dict1[\"age\"]=28\n",
    "print(dict1)\n",
    "\n",
    "dict1.update({\"city\":\"Kathmandu\", \"country\":\"Nepal\"}) # merges another dictionary.\n",
    "print(dict1)\n",
    "\n",
    "dict1.pop(\"address\") # removes the specified key-value pair\n",
    "print(dict1)\n",
    "\n",
    "dict1.popitem() # removes the last key-value pair\n",
    "print(dict1)\n"
   ]
  },
  {
   "cell_type": "markdown",
   "metadata": {},
   "source": [
    "### 14. Write a program to count the occurrence of each word in a sentence."
   ]
  },
  {
   "cell_type": "code",
   "execution_count": 15,
   "metadata": {},
   "outputs": [
    {
     "name": "stdout",
     "output_type": "stream",
     "text": [
      "{'I': 1, 'am': 1, 'kripa': 1, 'pathak': 1}\n"
     ]
    }
   ],
   "source": [
    "sentence=str(input(\"Enter a sentence\"))\n",
    "words= sentence.split()\n",
    "word_count={}\n",
    "for word in words:\n",
    "    if word in word_count:\n",
    "        word_count[word] +=1\n",
    "    else:\n",
    "        word_count[word] =1\n",
    "print(word_count)"
   ]
  },
  {
   "cell_type": "markdown",
   "metadata": {},
   "source": [
    "### 15. Demonstrate tuple unpacking and set operations."
   ]
  },
  {
   "cell_type": "code",
   "execution_count": 16,
   "metadata": {},
   "outputs": [
    {
     "name": "stdout",
     "output_type": "stream",
     "text": [
      "1 2 3 a b\n",
      "{'d'}\n",
      "{'c', 'a', 'b'}\n",
      "{1, 2, 'c', 'b', 'a', 'd'}\n",
      "{1, 2}\n"
     ]
    }
   ],
   "source": [
    "# Tuple unpacking\n",
    "T1=(1,2,3, \"a\",\"b\")\n",
    "j, k, l, m, n = T1\n",
    "print(j, k, l, m, n)\n",
    "\n",
    "# Set Operations\n",
    "s1={\"a\", \"b\", \"c\", \"d\"}\n",
    "s2={1,2,\"a\", \"b\", \"c\"}\n",
    "print(s1.difference(s2)) \n",
    "print(s1.intersection(s2))\n",
    "print(s1.union(s2))\n",
    "print(s2.difference(s1))"
   ]
  },
  {
   "cell_type": "markdown",
   "metadata": {},
   "source": [
    "## Problem-Solving Logic Building Questions\n",
    "\n",
    "### 16. Create a palindrome checker function."
   ]
  },
  {
   "cell_type": "code",
   "execution_count": 17,
   "metadata": {},
   "outputs": [
    {
     "name": "stdout",
     "output_type": "stream",
     "text": [
      "education is not a palindrome.\n"
     ]
    }
   ],
   "source": [
    "word=str(input(\"Enter a word\"))\n",
    "if word==word[::-1]:\n",
    "    print (f\"{word} is a palindrome.\")\n",
    "else:\n",
    "    print(f\"{word} is not a palindrome.\")"
   ]
  },
  {
   "cell_type": "markdown",
   "metadata": {},
   "source": [
    "### 17. Write a program to generate a multiplication table."
   ]
  },
  {
   "cell_type": "code",
   "execution_count": 18,
   "metadata": {},
   "outputs": [
    {
     "name": "stdout",
     "output_type": "stream",
     "text": [
      "7*1=7\n",
      "7*2=14\n",
      "7*3=21\n",
      "7*4=28\n",
      "7*5=35\n",
      "7*6=42\n",
      "7*7=49\n",
      "7*8=56\n",
      "7*9=63\n",
      "7*10=70\n"
     ]
    }
   ],
   "source": [
    "n=int(input(\"Enter a number.\"))\n",
    "for i in range(1,11):\n",
    "    print(f'{n}*{i}={n*i}')"
   ]
  },
  {
   "cell_type": "markdown",
   "metadata": {},
   "source": [
    "### 18. Calculate the sum of digits in a number."
   ]
  },
  {
   "cell_type": "code",
   "execution_count": 19,
   "metadata": {},
   "outputs": [
    {
     "name": "stdout",
     "output_type": "stream",
     "text": [
      "7\n"
     ]
    }
   ],
   "source": [
    "\n",
    "num=int(input(\"Enter a number\"))\n",
    "total=0\n",
    "while num>0:\n",
    "    total = total + num%10\n",
    "    num = num//10\n",
    "print(total)"
   ]
  },
  {
   "cell_type": "markdown",
   "metadata": {},
   "source": [
    "### 19. Check if a number is prime."
   ]
  },
  {
   "cell_type": "code",
   "execution_count": 24,
   "metadata": {},
   "outputs": [
    {
     "data": {
      "text/plain": [
       "'It is not a prime number.'"
      ]
     },
     "execution_count": 24,
     "metadata": {},
     "output_type": "execute_result"
    }
   ],
   "source": [
    "def prime_checker(n):\n",
    "\n",
    "    if n<=1:\n",
    "        print(\"It is not a prime number.\")\n",
    "\n",
    "    for i in range(2,n):\n",
    "        if n%i==0:\n",
    "            return(\"It is not a prime number.\")\n",
    "        \n",
    "    print(\"It is a prime number.\")\n",
    "\n",
    "prime_checker(444)\n",
    "              "
   ]
  },
  {
   "cell_type": "markdown",
   "metadata": {},
   "source": [
    "### 20. Create a simple password strength checker."
   ]
  },
  {
   "cell_type": "code",
   "execution_count": 27,
   "metadata": {},
   "outputs": [
    {
     "data": {
      "text/plain": [
       "'Weak: Password must include at least one special character.'"
      ]
     },
     "execution_count": 27,
     "metadata": {},
     "output_type": "execute_result"
    }
   ],
   "source": [
    "import re\n",
    "\n",
    "def password_strength_checker(pw):\n",
    "    \n",
    "    if len(pw) < 8:\n",
    "        return \"Weak: Password must be at least 8 characters long.\"\n",
    "    if not re.search(\"[a-z]\", pw):\n",
    "        return \"Weak: Password must include at least one lowercase letter.\"\n",
    "    if not re.search(\"[A-Z]\", pw):\n",
    "        return \"Weak: Password must include at least one uppercase letter.\"\n",
    "    if not re.search(\"[0-9]\", pw):\n",
    "        return \"Weak: Password must include at least one digit.\"\n",
    "    if not re.search(\"[!@#$%^&*(),.?\\\":{}|<>]\", pw):\n",
    "        return \"Weak: Password must include at least one special character.\"\n",
    "    return \"Strong: Your password is secure!\"\n",
    "\n",
    "password_strength_checker(\"Qwertyuiop90\")    \n",
    "\n"
   ]
  },
  {
   "cell_type": "markdown",
   "metadata": {},
   "source": [
    "# Python Pattern Printing Questions\n",
    "\n",
    "## Rectangular Patterns\n",
    "### 1. Solid Rectangle Pattern"
   ]
  },
  {
   "cell_type": "code",
   "execution_count": 28,
   "metadata": {},
   "outputs": [
    {
     "name": "stdout",
     "output_type": "stream",
     "text": [
      "* * * * * * * * * \n",
      "* * * * * * * * * \n",
      "* * * * * * * * * \n",
      "* * * * * * * * * \n",
      "* * * * * * * * * \n"
     ]
    }
   ],
   "source": [
    "for i in range(1,6):\n",
    "    for j in range(1,10):\n",
    "        print(\"*\", end=\" \")\n",
    "\n",
    "    print()"
   ]
  },
  {
   "cell_type": "markdown",
   "metadata": {},
   "source": [
    "\n",
    "## Triangular Patterns\n",
    "### 2. Right-Angled Triangle"
   ]
  },
  {
   "cell_type": "code",
   "execution_count": 29,
   "metadata": {},
   "outputs": [
    {
     "name": "stdout",
     "output_type": "stream",
     "text": [
      "* \n",
      "* * \n",
      "* * * \n",
      "* * * * \n",
      "* * * * * \n",
      "* * * * * * \n",
      "* * * * * * * \n"
     ]
    }
   ],
   "source": [
    "for i in range(1,8):\n",
    "    for j in range(0,i):\n",
    "        print(\"*\", end=\" \")\n",
    "\n",
    "    print()"
   ]
  },
  {
   "cell_type": "markdown",
   "metadata": {},
   "source": [
    "### 3. Inverted Right-Angled Triangle"
   ]
  },
  {
   "cell_type": "code",
   "execution_count": 30,
   "metadata": {},
   "outputs": [
    {
     "name": "stdout",
     "output_type": "stream",
     "text": [
      "********\n",
      "*******\n",
      "******\n",
      "*****\n",
      "****\n",
      "***\n",
      "**\n",
      "*\n"
     ]
    }
   ],
   "source": [
    "for i in range(8,0,-1):\n",
    "        print(\"*\"*i)"
   ]
  },
  {
   "cell_type": "markdown",
   "metadata": {},
   "source": [
    "## Number Patterns\n",
    "### 4. Number Triangle"
   ]
  },
  {
   "cell_type": "code",
   "execution_count": 31,
   "metadata": {},
   "outputs": [
    {
     "name": "stdout",
     "output_type": "stream",
     "text": [
      "1 \n",
      "2 2 \n",
      "3 3 3 \n",
      "4 4 4 4 \n",
      "5 5 5 5 5 \n",
      "6 6 6 6 6 6 \n",
      "7 7 7 7 7 7 7 \n"
     ]
    }
   ],
   "source": [
    "for i in range(1,8):\n",
    "    for j in range(0,i):\n",
    "        print(i, end=\" \")\n",
    "\n",
    "    print()"
   ]
  },
  {
   "cell_type": "markdown",
   "metadata": {},
   "source": [
    "# Python Functions Questions - Basic to Intermediate\n",
    "\n",
    "## Basic Function Concepts\n",
    "\n",
    "### 1. Basic Function Definition and Call\n",
    "**Question:** Write a simple function to calculate the area of a rectangle.\n"
   ]
  },
  {
   "cell_type": "code",
   "execution_count": 32,
   "metadata": {},
   "outputs": [
    {
     "name": "stdout",
     "output_type": "stream",
     "text": [
      "area:24\n"
     ]
    }
   ],
   "source": [
    "def area(l,b):\n",
    "    print(f'area:{l*b}')\n",
    "\n",
    "area(6,4)"
   ]
  },
  {
   "cell_type": "markdown",
   "metadata": {},
   "source": [
    "### 2. Default Parameters\n",
    "**Question:** Create a function that greets a user with an optional time of day.\n"
   ]
  },
  {
   "cell_type": "code",
   "execution_count": 33,
   "metadata": {},
   "outputs": [
    {
     "name": "stdout",
     "output_type": "stream",
     "text": [
      "Hello,Kripa! The time now is 2024-12-23 10:55:07.697625\n"
     ]
    },
    {
     "data": {
      "text/plain": [
       "'Hi,Suraj! The time now is 2024-12-23 10:55:07.697625'"
      ]
     },
     "execution_count": 33,
     "metadata": {},
     "output_type": "execute_result"
    }
   ],
   "source": [
    "def greet(name, greeting=\"Hello\"):\n",
    "    import datetime\n",
    "    current_time= datetime.datetime.now()\n",
    "    return(f'{greeting},{name}! The time now is {current_time}')\n",
    "\n",
    "print(greet(\"Kripa\"))\n",
    "greet(\"Suraj\",\"Hi\")"
   ]
  },
  {
   "cell_type": "markdown",
   "metadata": {},
   "source": [
    "\n",
    "\n",
    "### 3. Return Multiple Values\n",
    "**Question:** Write a function that returns both the square and cube of a number.\n"
   ]
  },
  {
   "cell_type": "code",
   "execution_count": 35,
   "metadata": {},
   "outputs": [
    {
     "name": "stdout",
     "output_type": "stream",
     "text": [
      "square of4:16\n",
      "cube of 4:64\n"
     ]
    }
   ],
   "source": [
    "def kripa(n):\n",
    "    print(f'square of{n}:{n**2}')\n",
    "    print(f'cube of {n}:{n**3}')\n",
    "\n",
    "kripa(4)"
   ]
  },
  {
   "cell_type": "markdown",
   "metadata": {},
   "source": [
    "## Intermediate Concepts\n",
    "\n",
    "\n",
    "**Question:** Create a function that can accept any number of positional and keyword arguments.\n",
    "\n"
   ]
  },
  {
   "cell_type": "code",
   "execution_count": 36,
   "metadata": {},
   "outputs": [
    {
     "name": "stdout",
     "output_type": "stream",
     "text": [
      "Positional arguments (args): (1, 2, 3)\n",
      "Keyword arguments (kwargs): {'name': 'Kripa', 'age': 22}\n"
     ]
    }
   ],
   "source": [
    "def function1(*args, **kwargs):\n",
    "    print(\"Positional arguments (args):\", args)\n",
    "    print(\"Keyword arguments (kwargs):\", kwargs)\n",
    "\n",
    "function1(1, 2, 3, name=\"Kripa\", age=22)"
   ]
  },
  {
   "cell_type": "markdown",
   "metadata": {},
   "source": [
    "\n",
    "**Question:** Create a function that generates different types of number sequences(fibo,squares,cubes) using nested functions.\n"
   ]
  },
  {
   "cell_type": "code",
   "execution_count": 37,
   "metadata": {},
   "outputs": [
    {
     "name": "stdout",
     "output_type": "stream",
     "text": [
      "0 1 1 2 3 5 8 13 21 34 \n",
      "\n",
      "0 1 4 9 16 25 36 49 64 81 \n",
      "\n",
      "0 1 8 27 64 125 216 343 512 729 "
     ]
    }
   ],
   "source": [
    "def num_sequence(n):\n",
    "    # Fibonacci Sequence\n",
    "    def fibonacci(n):\n",
    "        a,b=0,1\n",
    "        for i in range(n):\n",
    "            print(a, end=\" \")\n",
    "            a, b=b, a+b,\n",
    "        \n",
    "        print(\"\\n\")\n",
    "    \n",
    "        # Square Sequence\n",
    "        def square(n):\n",
    "            for i in range(n):\n",
    "                print(i**2, end=\" \")\n",
    "    \n",
    "            print(\"\\n\")\n",
    "        \n",
    "            # Cube Sequence\n",
    "            def cube(n):\n",
    "                for i in range(n):\n",
    "                    print(i**3, end=\" \")\n",
    "\n",
    "\n",
    "            cube(n)\n",
    "\n",
    "        square(n)\n",
    "\n",
    "    fibonacci(n)\n",
    "       \n",
    "            \n",
    "num_sequence(10)"
   ]
  },
  {
   "cell_type": "markdown",
   "metadata": {},
   "source": [
    "\n",
    "**Question:** Demonstrate the use of local, nonlocal, and global variables in nested functions.\n"
   ]
  },
  {
   "cell_type": "code",
   "execution_count": 38,
   "metadata": {},
   "outputs": [
    {
     "name": "stdout",
     "output_type": "stream",
     "text": [
      "global\n",
      "nonlocal\n",
      "nonlocal\n",
      "global\n"
     ]
    }
   ],
   "source": [
    "x = \"global\" # Global variable\n",
    "\n",
    "def outer_function():\n",
    "    x = \"local\" # Local Variable, only usable by this function\n",
    "\n",
    "    def inner_function():\n",
    "        nonlocal x  # Non-local variable, usable by this and outer function, modified the local variable\n",
    "        x = \"nonlocal\"\n",
    "        print(x)\n",
    "    \n",
    "    inner_function()\n",
    "    print(x)\n",
    "\n",
    "\n",
    "print(x)\n",
    "outer_function()\n",
    "print(x)\n"
   ]
  },
  {
   "cell_type": "markdown",
   "metadata": {},
   "source": [
    "\n",
    "**Question:** Write a recursive function to calculate the factorial of a number.\n"
   ]
  },
  {
   "cell_type": "code",
   "execution_count": 2,
   "metadata": {},
   "outputs": [
    {
     "data": {
      "text/plain": [
       "5"
      ]
     },
     "execution_count": 2,
     "metadata": {},
     "output_type": "execute_result"
    }
   ],
   "source": [
    "def fibonacci(n):\n",
    "    for i in range (0 , n):\n",
    "        if n == 1 :\n",
    "           return 0\n",
    "        elif n == 2 :\n",
    "           return 1\n",
    "        else :\n",
    "           return fibonacci(n - 1) + fibonacci(n-2)\n",
    "    \n",
    "\n",
    "fibonacci(int(input(\"enter number\")))"
   ]
  },
  {
   "cell_type": "markdown",
   "metadata": {},
   "source": [
    "\n",
    "**Question:** Write a recursive function to generate a fibonacci sequence.\n"
   ]
  },
  {
   "cell_type": "code",
   "execution_count": 3,
   "metadata": {},
   "outputs": [
    {
     "name": "stdout",
     "output_type": "stream",
     "text": [
      "0\n",
      "1\n",
      "1\n",
      "2\n",
      "3\n",
      "5\n",
      "8\n",
      "13\n",
      "21\n",
      "34\n"
     ]
    }
   ],
   "source": [
    "def fibonacci(n):\n",
    "    if n <= 0:\n",
    "        return 0\n",
    "    elif n == 1:\n",
    "        return 1\n",
    "    else:\n",
    "        return fibonacci(n-1) + fibonacci(n-2)\n",
    "\n",
    "# Example usage: Generate the first 10 Fibonacci numbers\n",
    "for i in range(10):\n",
    "    print(fibonacci(i))\n"
   ]
  },
  {
   "cell_type": "markdown",
   "metadata": {},
   "source": [
    "\n",
    "**Question:** Create a closure that generates multiplier functions.\n",
    "\n"
   ]
  },
  {
   "cell_type": "code",
   "execution_count": 4,
   "metadata": {},
   "outputs": [
    {
     "name": "stdout",
     "output_type": "stream",
     "text": [
      "60\n"
     ]
    }
   ],
   "source": [
    "def outer_function(x):\n",
    "\n",
    "    def inner_function(y):\n",
    "        return x * y\n",
    "    return inner_function\n",
    "\n",
    "closure = outer_function(10)\n",
    "result = closure(6)\n",
    "print(result) \n"
   ]
  },
  {
   "cell_type": "markdown",
   "metadata": {},
   "source": [
    "# Python File Handling Assignment"
   ]
  },
  {
   "cell_type": "markdown",
   "metadata": {},
   "source": [
    "##### Tips\n",
    "- Always use the `with` statement when working with files\n",
    "- Make sure to add \"\\n\" for new lines when writing\n",
    "- Remember the different file modes:\n",
    "  - \"w\" - Write (creates new file/overwrites existing)\n",
    "  - \"r\" - Read\n",
    "  - \"a\" - Append\n",
    "- Close files automatically by using `with`\n",
    "- Use `.strip()` to remove extra whitespace when reading lines\n",
    "\n",
    "##### Common Mistakes to Avoid\n",
    "- Don't forget to add newline characters (\"\\n\") when writing\n",
    "- Don't use write mode (\"w\") when you want to add to a file\n",
    "- Don't forget to handle the case where the file might not exist"
   ]
  },
  {
   "cell_type": "markdown",
   "metadata": {},
   "source": [
    "##### Create a program that:\n",
    "- Uses `with open()` to create a new file called \"my_file.txt\"\n",
    "- Writes three lines about yourself\n",
    "- Make sure to use the write mode (\"w\")\n"
   ]
  },
  {
   "cell_type": "code",
   "execution_count": 6,
   "metadata": {},
   "outputs": [],
   "source": [
    "# Create a new file \n",
    "\n",
    "with open(\"my_file.txt\", \"w\") as file:\n",
    "    file.write(\"Hello, I'm kripa pathak, learning python course at IRA.\\n\")\n",
    "    file.write(\"I am 22 years old studying bachelor at Texas International College.\\n\")\n",
    "    file.write(\"I love engaging in new activities and I am learning python for cybersecurity course.\\n\")"
   ]
  },
  {
   "cell_type": "markdown",
   "metadata": {},
   "source": [
    "##### Create a program that:\n",
    "- Opens and reads the file you created\n",
    "- Prints its contents to the screen\n",
    "- Try both reading the entire file and reading line by line"
   ]
  },
  {
   "cell_type": "code",
   "execution_count": 7,
   "metadata": {},
   "outputs": [
    {
     "name": "stdout",
     "output_type": "stream",
     "text": [
      "Hello, I'm kripa pathak, learning python course at IRA.\n",
      "I am 22 years old studying bachelor at Texas International College.\n",
      "I love engaging in new activities and I am learning python for cybersecurity course.\n",
      "\n"
     ]
    }
   ],
   "source": [
    "# read the file and print its content to screen\n",
    "\n",
    "with open(\"my_file.txt\", \"r\") as file:\n",
    "    print(file.read())"
   ]
  },
  {
   "cell_type": "code",
   "execution_count": 16,
   "metadata": {},
   "outputs": [
    {
     "name": "stdout",
     "output_type": "stream",
     "text": [
      "Reading the entire file:\n",
      "\n",
      "Hello, I'm kripa pathak, learning python course at IRA.\n",
      "I am 22 years old studying bachelor at Texas International College.\n",
      "I love engaging in new activities and I am learning python for cybersecurity course.\n",
      "Learning is fun.\n",
      "Ask me anything.\n",
      "\n"
     ]
    }
   ],
   "source": [
    "# read and print the entire file\n",
    "with open(\"my_file.txt\", \"r\") as file:\n",
    "        content = file.read()\n",
    "        print(\"Reading the entire file:\\n\")\n",
    "print(content)\n",
    "\n"
   ]
  },
  {
   "cell_type": "code",
   "execution_count": 18,
   "metadata": {},
   "outputs": [
    {
     "name": "stdout",
     "output_type": "stream",
     "text": [
      "Reading the file line by line:\n",
      "\n",
      "Hello, I'm kripa pathak, learning python course at IRA.\n",
      "I am 22 years old studying bachelor at Texas International College.\n",
      "I love engaging in new activities and I am learning python for cybersecurity course.\n",
      "Learning is fun.\n",
      "Ask me anything.\n"
     ]
    }
   ],
   "source": [
    "# read and print the file line by line\n",
    "with open(\"my_file.txt\", \"r\") as file:\n",
    "        print(\"Reading the file line by line:\\n\")\n",
    "        for line in file:\n",
    "            print(line, end=\"\")  \n",
    "\n"
   ]
  },
  {
   "cell_type": "markdown",
   "metadata": {},
   "source": [
    "##### Create a program that:\n",
    "- Opens the same file in append mode (\"a\")\n",
    "- Adds two more lines to the end of the file\n",
    "- Reads and displays the updated content"
   ]
  },
  {
   "cell_type": "code",
   "execution_count": 10,
   "metadata": {},
   "outputs": [],
   "source": [
    "# open file in append mode\n",
    "with open(\"my_file.txt\", \"a\") as file:\n",
    "    file.write(\"Learning is fun.\\n\")\n",
    "    file.write(\"Ask me anything.\\n\")"
   ]
  },
  {
   "cell_type": "code",
   "execution_count": 20,
   "metadata": {},
   "outputs": [
    {
     "name": "stdout",
     "output_type": "stream",
     "text": [
      "Updated file content:\n",
      "\n",
      "Hello, I'm kripa pathak, learning python course at IRA.\n",
      "I am 22 years old studying bachelor at Texas International College.\n",
      "I love engaging in new activities and I am learning python for cybersecurity course.\n",
      "Learning is fun.\n",
      "Ask me anything.\n",
      "\n"
     ]
    }
   ],
   "source": [
    "new_lines = [\n",
    "    \"I am currently learning the basics of python program.\",\n",
    "    \"its fun and interesting to learn python coding\"\n",
    "]\n",
    "\n",
    "# Function to read and display the updated content\n",
    "with open(\"my_file.txt\", \"r\") as file:\n",
    "        content = file.read()\n",
    "        print(\"Updated file content:\\n\")\n",
    "print(content)\n",
    "\n",
    "\n",
    "\n",
    "\n"
   ]
  },
  {
   "cell_type": "markdown",
   "metadata": {},
   "source": [
    "#### Create a Program for Personal Journal where you write journal entry.\n",
    "    - You take input and date from user\n",
    "    - And append them in the journal.txt that you opened in append mode"
   ]
  },
  {
   "cell_type": "code",
   "execution_count": 21,
   "metadata": {},
   "outputs": [
    {
     "name": "stdout",
     "output_type": "stream",
     "text": [
      "Journal entry added successfully!\n"
     ]
    }
   ],
   "source": [
    "from datetime import datetime\n",
    "\n",
    "# Function to append journal entry to the file\n",
    "def write_journal_entry():\n",
    "    with open(\"journal.txt\", \"a\") as file:\n",
    "        \n",
    "        current_date = datetime.now().strftime(\"%Y-%m-%d %H:%M:%S\")\n",
    "        \n",
    "        entry = input(\"Write your journal entry: \")\n",
    "        \n",
    "        file.write(f\"{current_date} - {entry}\\n\")\n",
    "    \n",
    "    print(\"Journal entry added successfully!\")\n",
    "\n",
    "write_journal_entry()\n"
   ]
  },
  {
   "cell_type": "markdown",
   "metadata": {},
   "source": [
    "#### Create a Program for Simple TO DO List where you have two functions add_todo() and view_todo()\n",
    "    - You take input from user for new task and write them in ask_todo() function\n",
    "    - You print the to do list in view_todo() function"
   ]
  },
  {
   "cell_type": "code",
   "execution_count": 23,
   "metadata": {},
   "outputs": [
    {
     "name": "stdout",
     "output_type": "stream",
     "text": [
      "hello \n",
      "hello texas\n",
      "\n"
     ]
    }
   ],
   "source": [
    "def add_todo():\n",
    "    task = input(\"Enter a task: \")\n",
    "    with open(\"todo_list.txt\", \"a\") as file:\n",
    "        file.write(task + \"\\n\")\n",
    "\n",
    "def view_todo():\n",
    "    with open(\"todo_list.txt\", \"r\") as file:\n",
    "        print(file.read())\n",
    "\n",
    "add_todo()\n",
    "view_todo()\n"
   ]
  }
 ],
 "metadata": {
  "kernelspec": {
   "display_name": "incessant",
   "language": "python",
   "name": "python3"
  },
  "language_info": {
   "codemirror_mode": {
    "name": "ipython",
    "version": 3
   },
   "file_extension": ".py",
   "mimetype": "text/x-python",
   "name": "python",
   "nbconvert_exporter": "python",
   "pygments_lexer": "ipython3",
   "version": "3.12.8"
  }
 },
 "nbformat": 4,
 "nbformat_minor": 2
}
